{
 "cells": [
  {
   "cell_type": "markdown",
   "metadata": {},
   "source": [
    "# Tutorial of IGA code\n",
    "\n",
    "By J. Cornejo Fuentes\n",
    "\n",
    "## 1. Overview\n",
    "\n",
    "### Strong and weak form\n",
    "\n",
    "We define the problem to solve on a spatial domain $\\Omega$ with a smooth boundary $\\Gamma$. However, for illustrative purposes, we consider the boundary be partitioned like $\\Gamma=\\Gamma_d\\cup\\Gamma_n$ with $\\Gamma_d\\cap\\Gamma_n=\\emptyset$. Let $\\sigma:\\Omega\\rightarrow\\mathbb{S}$ denote the Cauchy stress sor, let $u:\\Omega\\rightarrow\\mathbb{R}^{d}$ denote the displacement and let $\\varepsilon:\\Omega\\rightarrow\\mathbb{S}$ denote the infinitesimal strain sor. Here $\\mathbb{S}=\\mathbb{R}^{d\\times d}_{sym}$ is the space of all symmetric second-order tensors. Let us assume that the mentioned variables depend on the spatial variable $x\\in\\Omega$ and the time variable $t\\in[0,\\,T_f]\\subset\\mathbb{R}^{+}$. Then, the strong form $(S)$ of the problem is given by the following initial boundary value problem (IBVP): \n",
    "\n",
    "$$\n",
    "(S)=\n",
    "\\begin{cases}\n",
    "\\rho \\partial_{tt} u - \\textrm{div}(\\sigma)=f^{\\textrm{ext}} &\\textrm{over}\\quad\\Omega\\times(0,\\,T_f]\\\\\n",
    "u = 0 &\\textrm{over}\\quad\\Gamma_d\\times[0,\\,T_f]\\\\\n",
    "\\sigma\\cdot n_{\\Gamma} = g^{\\textrm{ext}} &\\textrm{over}\\quad\\Gamma_n\\times(0,\\,T_f]\\\\\n",
    "u = \\partial_{t}u = 0 &\\textrm{over}\\quad\\Omega\\times\\{0\\}\n",
    "\\end{cases}\n",
    "$$\n",
    "\n",
    "Hereafter, $\\partial_t$ and $\\partial_{tt}$ denote respectively the first and second time derivative; ${f}^{\\text{ext}}:\\Omega\\rightarrow\\mathbb{R}^{d}$ is the prescribed body force per unit volume; ${g}^{\\text{ext}}:\\Gamma_n\\rightarrow\\mathbb{R}^{d}$ is the prescribed (traction) force per unit surface; and ${n}_{\\Gamma}:\\Gamma\\rightarrow\\mathbb{R}^{d}$ is the outward unit normal vector to $\\Gamma$. Moreover, we assume that the strain field is defined as ${\\varepsilon} = \\nabla^{s}{u}=\\frac{1}{2}\\left(\\nabla{u} + \\left(\\nabla{u}\\right)^\\top\\right)$ and the stress field follows the Hooke's law for an isotropic material, i.e., ${\\sigma}=\\mathcal{C}^{el}:{\\varepsilon}$,  where $\\mathcal{C}^{el}=\\lambda \\mathbb{I}\\otimes\\mathbb{I} + 2\\mu\\mathcal{I}^{sym}$ and $\\lambda,\\,\\mu$ are the so-called Lamé parameters.\n",
    "\n",
    "We define the function spaces $\\mathscr{S}=\\lbrace w\\,|\\,w\\in \\left(H^1(\\Omega)\\right)^d\\times[0,\\,T_f],\\;w=0\\;\\text{on}\\;\\Gamma_d\\rbrace$ and $\\mathscr{V}=\\lbrace w\\,|\\,w\\in \\left(H^1(\\Omega)\\right)^d,\\;{w}={0}\\;\\text{on}\\;\\Gamma_d\\rbrace$. Note that $\\mathscr{S}$ is time dependent due to the essential boundary condition while $\\mathscr{V}$ is not. Then, the corresponding weak form is given by:\n",
    "\n",
    "$$\n",
    "(W)=\n",
    "\\begin{cases}\n",
    "\t\\text{Find}\\;u:[0,\\,T_f]\\rightarrow\\mathscr{S},\\;\\text{such that}\\;\\forall v \\in\\mathscr{V}:\\\\\n",
    "\t\\textrm{M}(\\ddot{u},\\,v) + \\textrm{F}^{\\text{int}}(u,\\,v)=\\textrm{F}^{\\text{ext}}(v) & \\text{on}\\;(0,\\,T_f]\\\\\n",
    "\tu=0,\\quad\\dot{u}=0 & \\text{on}\\;\\{0\\};\n",
    "\\end{cases}\n",
    "$$\n",
    "\n",
    "where the operators $\\textrm{M}$, $\\textrm{F}^{\\text{int}}$ and $\\textrm{F}^{\\text{ext}}$ are defined as\n",
    "$$\n",
    "\\begin{aligned}\n",
    "&\\textrm{M}(\\ddot{u},\\,v) = \\int_\\Omega{\\ddot{u}}\\cdot{v}\\;d\\Omega;\n",
    "\\\\\n",
    "&\\textrm{F}^{\\text{int}}(u,\\,v)=\\int_\\Omega{\\sigma}(u):{\\varepsilon}(v)\\;d\\Omega;\n",
    "\\\\\n",
    "&\\textrm{F}^{\\text{ext}}(v)=\\int_\\Omega{f}^{\\text{ext}}\\cdot{v}\\;d\\Omega + \\int_{\\Gamma_n}{g}^{\\text{ext}}\\cdot{v}\\;d\\Gamma.\n",
    "\\end{aligned}\n",
    "$$\n",
    "\n",
    "### Matrix formulation\n",
    "\n",
    "In IGA, the computational domain $\\Omega$ is given by a B-Spline parameterization. For simplicity purposes, we restrict our work to the case when $\\Omega$ is given by a single-patch B-spline parameterization, i.e., we assume that there exist a conforming parameterization $F$ that maps each point ${\\xi}$ in the parametric domain $\\hat\\Omega=[0,\\,1]^d$ to a point ${x}$ in the physical domain $\\Omega$. In other words, $x=F(\\xi)=\\sum_{A}\\hat{N}_A(\\xi) P_A$, where $\\hat{N}_A$ are the B-spline functions defined in the parametric space and $P_A\\in\\mathbb{R}^d$ are the control points defined in the physical space. Moreover, we consider that $F$ is a smooth mapping such that the Jacobian matrix of $F$, denoted $J_F({\\xi})$, and its inverse are well-defined in $\\Omega$. In this framework, we construct a finite approximation of the solution field, denoted as $u^h$, by using the interpolation ${u}^h=\\sum_{A\\in\\eta} N_A({x})\\mathbf{u}_A(t)$ with $\\mathbf{u}_A:[0,\\,T_f]\\rightarrow\\mathbb{R}^d$ and $\\mathbf{u}_A={0}$ for all $A\\in\\eta_d$ at any $t\\in[0,\\,T_f]$. Hereafter, $\\eta$ denotes the set of the control points and $\\eta_d$ denotes the subset of $\\eta$ that contains those control points on the prescribed displacement boundary $\\Gamma_d$. It is worth noticing that the weighting functions follow the same discretization. Finally, the matrix formulation is:\n",
    "\n",
    "$$\n",
    "(M)=\n",
    "\\begin{cases}\n",
    "\t\\text{Find}\\;\\mathbf{u}:[0,\\,T_f]\\rightarrow\\mathscr{S}^h,\\;\\text{such that}:\\\\\n",
    "\tM \\ddot{\\mathbf{u}} + F^{\\text{int}}=F^{\\text{ext}} & \\text{on}\\;(0,\\,T_f]\\\\\n",
    "\t\\mathbf{u}=0,\\quad\\dot{\\mathbf{u}}=0 & \\text{on}\\;\\{0\\};\n",
    "\\end{cases}\n",
    "$$\n",
    "\n",
    "where the matrix $M$ and vectors $F^{\\text{int}}$ and $F^{\\text{ext}}$ are defined as\n",
    "$$\n",
    "\\begin{aligned}\n",
    "&M_{AB} = \\int_\\Omega (N_A N_B) \\mathbb{I} \\;d\\Omega;\n",
    "\\\\\n",
    "&F_A^{\\text{int}}=\\int_\\Omega{\\sigma}(u)\\cdot\\nabla N_A\\;d\\Omega;\n",
    "\\\\\n",
    "&F_A^{\\text{ext}}=\\int_\\Omega{f}^{\\text{ext}} N_A\\;d\\Omega + \\int_{\\Gamma_h}{g}^{\\text{ext}} N_A\\;d\\Gamma.\n",
    "\\end{aligned}\n",
    "$$"
   ]
  },
  {
   "cell_type": "markdown",
   "metadata": {},
   "source": [
    "## Implementation\n",
    "\n",
    "### Create geometry\n",
    "\n",
    "This project could work with any single-patch parameterization defined by the `geomdl` library. Further information about this library could be found at [https://pypi.org/project/geomdl/](https://pypi.org/project/geomdl/). In the module `src/lib_mygeometry`, there are some default geometries that the user may call directly into their code. For sake of simplicity, in this tutorial we will work with a unit `square`. Other possibilities are `line`, `trapezium`, `quarter_annulus`, `cube`, `prism`, `thick_ring` and `rotated_quarter_annulus`."
   ]
  },
  {
   "cell_type": "code",
   "execution_count": 5,
   "metadata": {},
   "outputs": [],
   "source": [
    "from src.__init__ import *\n",
    "from src.lib_mygeometry import mygeomdl\n",
    "\n",
    "# Default unit square geometry with a polynomial degree of 3 and 16 number of elements by direction (256 in total).\n",
    "geo_parameters = {'name': 'square', 'degree': 4, 'nbel': 32}\n",
    "geometry = mygeomdl(geo_parameters).export_geometry()\n"
   ]
  },
  {
   "cell_type": "markdown",
   "metadata": {},
   "source": [
    "### Construct the data structure of the geometry \n",
    "\n",
    "Once the B-spline object has been created, we need to define the data structure and the quadrature rules. The quadrature rule arguments should be in a dictionary format. There are four possible options for the quadrature rules:\n",
    "\n",
    "- Gauss Legendre: `{'quadrule':'gs', 'type':'leg'}`\n",
    "- Gauss Lobatto: `{'quadrule':'gs', 'type':'lob'}`\n",
    "- Weighted quadrature with 4 rules: `{'quadrule':'wq', 'type':1}`\n",
    "- Weighted quadrature with 2 rules: `{'quadrule':'wq', 'type':2}`\n"
   ]
  },
  {
   "cell_type": "code",
   "execution_count": 6,
   "metadata": {},
   "outputs": [],
   "source": [
    "from src.lib_part import singlepatch\n",
    "\n",
    "# Construct data structure of geomdl object \n",
    "patch = singlepatch(geometry, quad_args={'quadrule':'gs', 'type':'leg'})\n"
   ]
  },
  {
   "cell_type": "markdown",
   "metadata": {},
   "source": [
    "### Define material\n",
    "\n",
    "For sake of simplicity, we consider a linear elastic material (with constant elastic modulus and poisson ratio) with a uniform density. "
   ]
  },
  {
   "cell_type": "code",
   "execution_count": 7,
   "metadata": {},
   "outputs": [],
   "source": [
    "from src.lib_material import J2plasticity3d\n",
    "\n",
    "# Define linear elastic material\n",
    "material = J2plasticity3d({'elastic_modulus':2.e3, 'poisson_ratio':0.3})\n",
    "material.add_density(7.8e-6, is_uniform=True)"
   ]
  },
  {
   "cell_type": "markdown",
   "metadata": {},
   "source": [
    "### Define boundary conditions\n",
    "\n",
    "To define the boundary conditions, we need to provide `nbcrlpts` as the number of control points per direction of the single patch, and `nbvars` as the number of variables or fields. In this case, `nbvars` is 2 since we work in a 2-field elastodynamic problem. The function `add_constraint` requires the `location` and the `constraint_type` which is by default a Dirichlet boundary condition (in the future, we could include contact boundaries or interface boundaries in a multipatch problem). The `location` variable is a list containing at least `nbvars` elements. In other works, in this problem, the first element of `location` defines the Dirichlet condition following the displacement in $x_1$ and the second element blocks the displacement in $x_2$. Each element should be a dictionary with entries `direction` and `face`, based on the YETI documentation ([https://yeti.insa-lyon.fr/usage/using_yeti.html](https://yeti.insa-lyon.fr/usage/using_yeti.html)). By abuse of notation, the possibilities for `direction` are `x` as the 1st parametric directions, `y` as the 2nd parametric direction and `z` as the third parametric direction. The possibilities for `face` are:\n",
    "\n",
    "- Face `left`: minimal value of 1st parametric direction\n",
    "- Face `right`: maximal value of 1st parametric direction\n",
    "- Face `bottom`: minimal value of 2nd parametric direction\n",
    "- Face `top`: maximal value of 2nd parametric direction\n",
    "- Face `front`: minimal value of 3rd parametric direction\n",
    "- Face `back`: maximal value of 3rd parametric direction\n",
    "\n",
    "Finally, we can compose multiple options like `{'direction':'x y', 'face': 'left bottom'}` which means that we impose a condition on $\\{0\\}\\times[0,\\,1]$ and $[0,\\,1]\\times\\{0\\}$ of the parametric space."
   ]
  },
  {
   "cell_type": "code",
   "execution_count": 8,
   "metadata": {},
   "outputs": [],
   "source": [
    "from src.lib_boundary import boundary_condition\n",
    "\n",
    "boundary = boundary_condition(nbctrlpts=patch.nbctrlpts, nbvars=2)\n",
    "boundary.add_constraint(location_list=[\n",
    "\t\t\t\t\t\t\t\t{'direction':'x', 'face':'left'}, \n",
    "\t\t\t\t\t\t\t\t{'direction':'y', 'face':'both'}\n",
    "\t\t\t\t\t\t\t\t], \n",
    "\t\t\t\t\t\tconstraint_type='dirichlet')\n"
   ]
  },
  {
   "cell_type": "markdown",
   "metadata": {},
   "source": [
    "### Solve elastodynamic problem"
   ]
  },
  {
   "cell_type": "markdown",
   "metadata": {},
   "source": [
    "#### Initialize the `mechanical_problem` class\n",
    "To initialize the class, it requires objects already created such as `material`, `patch` and `boundary`. It also allows to choose between using the consistent mass matrix or a lumping technique (for instance the row sum technique)."
   ]
  },
  {
   "cell_type": "code",
   "execution_count": 9,
   "metadata": {},
   "outputs": [],
   "source": [
    "from src.single_patch.lib_job_mechanical import mechanical_problem\n",
    "\n",
    "# Setup mechanical problem\n",
    "problem = mechanical_problem(material, patch, boundary, allow_lumping=True)"
   ]
  },
  {
   "cell_type": "markdown",
   "metadata": {},
   "source": [
    "#### Find the time-step size solving the eigenvalue problem\n",
    "\n",
    "It is a well-known fact that the time-step size in explicit schemes depends on the maximum eigenvalue of the problem discretized, i.e., finding $\\lambda_{\\text{max}}$ such that $M \\mathbf{u} = \\lambda K \\mathbf{u}$. In this context, the function `solve_eigenvalue_problem` calls the `scipy` subroutine `eigs` to compute the eigenvalues of the system described before. The argument `k` describe the number of eigenvalues to compute and `which` the type of the eigenvalues. `'LM'` denotes the Largest Module and `'SM'` denotes the Smallest Module."
   ]
  },
  {
   "cell_type": "code",
   "execution_count": 10,
   "metadata": {},
   "outputs": [],
   "source": [
    "# Find the eigenvalue of the problem\n",
    "eigenvalues, eigenvectors = problem.solve_eigenvalue_problem(which='LM', k=2)\n",
    "freqmax = np.sqrt(np.max(eigenvalues))\n",
    "\n",
    "# Define the time intervals from the minimal number of steps\n",
    "timespan = 1e-4\n",
    "nbsteps_min = int(1.01*np.ceil(timespan*freqmax/2))\n",
    "time_list = np.linspace(0, timespan, nbsteps_min)"
   ]
  },
  {
   "cell_type": "markdown",
   "metadata": {},
   "source": [
    "#### Assemble the external force array and propagate it in time"
   ]
  },
  {
   "cell_type": "code",
   "execution_count": 11,
   "metadata": {},
   "outputs": [],
   "source": [
    "def surface_force(args: dict):\n",
    "\tposition = args['position']\n",
    "\tforce = np.zeros_like(position)\n",
    "\tforce[0, :] = 1.\n",
    "\treturn force\n",
    "\n",
    "# Create external force\n",
    "force_ref = problem.assemble_surface_force(surface_force, location={'direction':'x', 'face':'right'})\n",
    "external_force = np.tensordot(force_ref, np.ones_like(time_list), axes=0)"
   ]
  },
  {
   "cell_type": "markdown",
   "metadata": {},
   "source": [
    "#### Solve explicit dynamics using Newmark scheme"
   ]
  },
  {
   "cell_type": "code",
   "execution_count": 12,
   "metadata": {},
   "outputs": [
    {
     "name": "stdout",
     "output_type": "stream",
     "text": [
      "Solver will use diagonal matrix\n"
     ]
    }
   ],
   "source": [
    "# Solve linear dynamics with Newmark scheme\n",
    "displacement = np.zeros_like(external_force)\n",
    "acceleration = np.zeros_like(external_force)\n",
    "problem.solve_explicit_linear_dynamics(displacement, acceleration, external_force, time_list)"
   ]
  }
 ],
 "metadata": {
  "kernelspec": {
   "display_name": ".py3yeti",
   "language": "python",
   "name": "python3"
  },
  "language_info": {
   "codemirror_mode": {
    "name": "ipython",
    "version": 3
   },
   "file_extension": ".py",
   "mimetype": "text/x-python",
   "name": "python",
   "nbconvert_exporter": "python",
   "pygments_lexer": "ipython3",
   "version": "3.10.12"
  }
 },
 "nbformat": 4,
 "nbformat_minor": 2
}
